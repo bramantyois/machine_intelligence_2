{
 "cells": [
  {
   "cell_type": "markdown",
   "metadata": {
    "cell_id": "00000-920861fd-4b04-40ab-b176-e1b3031291ed",
    "deepnote_cell_type": "markdown",
    "tags": []
   },
   "source": []
  },
  {
   "cell_type": "markdown",
   "metadata": {
    "cell_id": "00001-88d16ff1-78fd-4a24-91e4-3b0673484138",
    "deepnote_cell_type": "markdown",
    "tags": []
   },
   "source": [
    "Machine Intelligence 2 - Exercise 5 - Infomax Algorithm\n",
    "\n",
    "Group : Poulami Ghosh, Julie Morgan, Bramantyo Supriyatno "
   ]
  },
  {
   "cell_type": "code",
   "execution_count": null,
   "metadata": {
    "cell_id": "00000-46e01ca3-627c-4421-bb0d-784e93c8b36b",
    "deepnote_cell_type": "code",
    "deepnote_to_be_reexecuted": false,
    "execution_millis": 1496,
    "execution_start": 1621862365173,
    "source_hash": "bc7b2f9",
    "tags": []
   },
   "outputs": [],
   "source": [
    "import numpy as np \n",
    "import matplotlib.pyplot as plt \n",
    "import scipy.io.wavfile\n",
    "import seaborn as sns\n",
    "\n",
    "sns.set(style=\"ticks\", context=\"paper\", palette=\"pastel\")\n",
    "plt.style.use('seaborn')"
   ]
  },
  {
   "cell_type": "markdown",
   "metadata": {
    "cell_id": "00003-c8c994f1-94d6-426c-b896-d1c61f78c6f4",
    "deepnote_cell_type": "markdown",
    "tags": []
   },
   "source": [
    "Exercise H5.1 Initialization"
   ]
  },
  {
   "cell_type": "code",
   "execution_count": null,
   "metadata": {
    "cell_id": "00001-6c5956cd-552e-41a1-ad39-379b47718a01",
    "deepnote_cell_type": "code",
    "deepnote_to_be_reexecuted": false,
    "execution_millis": 251,
    "execution_start": 1621862366674,
    "source_hash": "37d0d9f0",
    "tags": []
   },
   "outputs": [],
   "source": [
    "sound1 = np.loadtxt('sound1.dat')\n",
    "sound2 = np.loadtxt('sound2.dat')\n",
    "\n",
    "sounds = np.vstack((sound1, sound2)).T"
   ]
  },
  {
   "cell_type": "code",
   "execution_count": null,
   "metadata": {
    "cell_id": "00002-771b4a43-11d0-4ba0-ac64-56b411aa2f71",
    "deepnote_cell_type": "code",
    "deepnote_to_be_reexecuted": false,
    "execution_millis": 451,
    "execution_start": 1621862366930,
    "source_hash": "a643a9b5",
    "tags": []
   },
   "outputs": [
    {
     "data": {
      "image/png": "[encoded data removed]",
      "text/plain": [
       "<Figure size 576x396 with 1 Axes>"
      ]
     },
     "metadata": {
      "image/png": {
       "height": 360,
       "width": 482
      }
     },
     "output_type": "display_data"
    }
   ],
   "source": [
    "plt.plot(sounds)\n",
    "plt.title('Audio Plot')\n",
    "plt.xlabel('sample num')\n",
    "plt.show()"
   ]
  },
  {
   "cell_type": "code",
   "execution_count": null,
   "metadata": {
    "cell_id": "00003-c41670b6-219d-4561-8520-50eb3b451d16",
    "deepnote_cell_type": "code",
    "deepnote_to_be_reexecuted": false,
    "execution_millis": 9,
    "execution_start": 1621862367379,
    "source_hash": "37e17b59",
    "tags": []
   },
   "outputs": [],
   "source": [
    "while True:\n",
    "    A = np.random.random((2,2))\n",
    "    if np.isfinite(np.linalg.cond(A)):\n",
    "        break"
   ]
  },
  {
   "cell_type": "code",
   "execution_count": null,
   "metadata": {
    "cell_id": "00006-6b6f7979-a528-445f-b3b9-e19c5f26cb62",
    "deepnote_cell_type": "code",
    "deepnote_to_be_reexecuted": false,
    "execution_millis": 9,
    "execution_start": 1621862367392,
    "source_hash": "41811da8",
    "tags": []
   },
   "outputs": [],
   "source": [
    "x_sounds = sounds @ A"
   ]
  },
  {
   "cell_type": "code",
   "execution_count": null,
   "metadata": {
    "cell_id": "00007-6046ac19-8467-4001-b2f8-aaf8fd175ec8",
    "deepnote_cell_type": "code",
    "deepnote_to_be_reexecuted": false,
    "execution_millis": 10,
    "execution_start": 1621862367413,
    "source_hash": "b54ae5bb",
    "tags": []
   },
   "outputs": [],
   "source": [
    "order = np.random.permutation(x_sounds.shape[0])\n",
    "p_sounds = x_sounds[order,:]"
   ]
  },
  {
   "cell_type": "code",
   "execution_count": null,
   "metadata": {
    "cell_id": "00009-dadd3ddc-9d28-4e8c-b73c-7dcecc3490f0",
    "deepnote_cell_type": "code",
    "deepnote_to_be_reexecuted": false,
    "execution_millis": 16,
    "execution_start": 1621862367427,
    "source_hash": "915550de",
    "tags": []
   },
   "outputs": [],
   "source": [
    "cov_s1p1 = np.cov(sound1,p_sounds[:,0])[0,1]\n",
    "cov_s1p2 = np.cov(sound1,p_sounds[:,1])[0,1]\n",
    "cov_s2p1 = np.cov(sound2,p_sounds[:,0])[0,1]\n",
    "cov_s2p2 = np.cov(sound2,p_sounds[:,1])[0,1]"
   ]
  },
  {
   "cell_type": "code",
   "execution_count": null,
   "metadata": {
    "cell_id": "00010-ab9177c5-9db8-447c-9898-c99bd94ecef2",
    "deepnote_cell_type": "code",
    "deepnote_to_be_reexecuted": false,
    "execution_millis": 7,
    "execution_start": 1621862367450,
    "source_hash": "64404b74",
    "tags": []
   },
   "outputs": [],
   "source": [
    "std_s1 = np.std(sound1)\n",
    "std_s2 = np.std(sound2)\n",
    "std_p1 = np.std(p_sounds[:,0])\n",
    "std_p2 = np.std(p_sounds[:,1])"
   ]
  },
  {
   "cell_type": "code",
   "execution_count": null,
   "metadata": {
    "cell_id": "00010-d9925efe-2e18-47e8-9aca-08a421c2b9b3",
    "deepnote_cell_type": "code",
    "deepnote_to_be_reexecuted": false,
    "execution_millis": 4,
    "execution_start": 1621862367467,
    "source_hash": "ffc7d199",
    "tags": []
   },
   "outputs": [],
   "source": [
    "a = cov_s1p1/(std_s1*std_p1)\n",
    "b = cov_s1p2/(std_s1*std_p2)\n",
    "c = cov_s2p1/(std_s2*std_p1)\n",
    "d = cov_s2p2/(std_s2*std_p2)"
   ]
  },
  {
   "cell_type": "code",
   "execution_count": null,
   "metadata": {
    "cell_id": "00012-58b193e9-258c-402a-adea-48b6dfa2dcb2",
    "deepnote_cell_type": "code",
    "deepnote_to_be_reexecuted": false,
    "execution_millis": 66,
    "execution_start": 1621862367478,
    "source_hash": "515ce26a",
    "tags": []
   },
   "outputs": [
    {
     "name": "stdout",
     "output_type": "stream",
     "text": [
      "correlation of true sound 1 and mixed permutated sound 1 = -0.0020810946229855225\n",
      "correlation of true sound 1 and mixed permutated sound 2 = -0.0023417829228215823\n",
      "correlation of true sound 2 and mixed permutated sound 1 = 0.0043533005779326445\n",
      "correlation of true sound 2 and mixed permutated sound 2 = 0.005571654713552426\n"
     ]
    }
   ],
   "source": [
    "\n",
    "print('correlation of true sound 1 and mixed permutated sound 1 = {}'.format(a))\n",
    "print('correlation of true sound 1 and mixed permutated sound 2 = {}'.format(b))\n",
    "print('correlation of true sound 2 and mixed permutated sound 1 = {}'.format(c))\n",
    "print('correlation of true sound 2 and mixed permutated sound 2 = {}'.format(d))"
   ]
  },
  {
   "cell_type": "code",
   "execution_count": null,
   "metadata": {
    "cell_id": "00011-9463da3f-43fe-4681-b69c-7f98bd329f27",
    "deepnote_cell_type": "code",
    "deepnote_to_be_reexecuted": false,
    "execution_millis": 41,
    "execution_start": 1621862367503,
    "source_hash": "9687fe3b",
    "tags": []
   },
   "outputs": [
    {
     "data": {
      "text/plain": [
       "0.010974184271634456"
      ]
     },
     "execution_count": 11,
     "metadata": {},
     "output_type": "execute_result"
    }
   ],
   "source": [
    "mean_x = np.mean(p_sounds)\n",
    "mean_x"
   ]
  },
  {
   "cell_type": "code",
   "execution_count": null,
   "metadata": {
    "cell_id": "00012-402679af-07d1-46b7-8329-bc0d146cdee8",
    "deepnote_cell_type": "code",
    "deepnote_to_be_reexecuted": false,
    "execution_millis": 3,
    "execution_start": 1621862367519,
    "source_hash": "5a2f3881",
    "tags": []
   },
   "outputs": [],
   "source": [
    "cp_sounds = p_sounds - mean_x"
   ]
  },
  {
   "cell_type": "code",
   "execution_count": null,
   "metadata": {
    "cell_id": "00013-dc956139-1f80-49c3-9da8-6bf57330439a",
    "deepnote_cell_type": "code",
    "deepnote_to_be_reexecuted": false,
    "execution_millis": 2,
    "execution_start": 1621862367528,
    "source_hash": "95d1b9c9",
    "tags": []
   },
   "outputs": [
    {
     "data": {
      "text/plain": [
       "1.5000346643824336e-17"
      ]
     },
     "execution_count": 13,
     "metadata": {},
     "output_type": "execute_result"
    }
   ],
   "source": [
    "np.mean(cp_sounds)"
   ]
  },
  {
   "cell_type": "code",
   "execution_count": null,
   "metadata": {
    "cell_id": "00014-ad4d1fb6-3335-49c3-99e7-ffde78bfa94a",
    "deepnote_cell_type": "code",
    "deepnote_to_be_reexecuted": false,
    "execution_millis": 14,
    "execution_start": 1621862367545,
    "source_hash": "acf40359",
    "tags": []
   },
   "outputs": [],
   "source": [
    "W = np.random.random((2, 2))"
   ]
  },
  {
   "cell_type": "markdown",
   "metadata": {
    "cell_id": "00015-cd46c5d0-b352-46a8-b8f6-65037cccb256",
    "deepnote_cell_type": "markdown",
    "tags": []
   },
   "source": [
    "Exercise 5.2 Optimization"
   ]
  },
  {
   "cell_type": "code",
   "execution_count": null,
   "metadata": {
    "cell_id": "00015-871ebcf0-1d18-4ae1-aa04-4598a99b468f",
    "deepnote_cell_type": "code",
    "deepnote_to_be_reexecuted": false,
    "execution_millis": 1298355,
    "execution_start": 1621862367577,
    "source_hash": "dc784beb",
    "tags": []
   },
   "outputs": [],
   "source": [
    "def logistic(x):\n",
    "    return 1/(1+np.exp(-x))\n",
    "\n",
    "def logistic_d2f_df(x):\n",
    "    return 1 - 2 * logistic(x)"
   ]
  },
  {
   "cell_type": "code",
   "execution_count": null,
   "metadata": {
    "cell_id": "00017-f95ccb7c-1a59-4bba-8b2a-f61a3fe0a621",
    "deepnote_cell_type": "code",
    "deepnote_to_be_reexecuted": false,
    "execution_millis": 1297794,
    "execution_start": 1621862367638,
    "source_hash": "d99749fc",
    "tags": []
   },
   "outputs": [],
   "source": [
    "W_inv = np.linalg.inv(W)"
   ]
  },
  {
   "cell_type": "code",
   "execution_count": null,
   "metadata": {
    "cell_id": "00023-10780c29-2e70-4071-91da-0b103a29db02",
    "deepnote_cell_type": "code",
    "deepnote_to_be_reexecuted": false,
    "execution_millis": 1297489,
    "execution_start": 1621862367638,
    "source_hash": "ba698648",
    "tags": []
   },
   "outputs": [],
   "source": [
    "def compute_error(x_alpha):\n",
    "    for i in range(len(W)):\n",
    "        for j in range(len(W[0])):\n",
    "            W_inv[j,i] + logistic_d2f_df(np.sum(W[i,:]@x_alpha))"
   ]
  },
  {
   "cell_type": "code",
   "execution_count": null,
   "metadata": {
    "cell_id": "00019-f4d2fde9-eba0-4f6a-a930-0c4edc6679ae",
    "deepnote_cell_type": "code",
    "deepnote_to_be_reexecuted": false,
    "execution_millis": 1297099,
    "execution_start": 1621862367639,
    "source_hash": "ef4d599c",
    "tags": []
   },
   "outputs": [],
   "source": [
    "def frob_norm(w1,w2):\n",
    "    return float(np.sum((w1-w2)**2))"
   ]
  },
  {
   "cell_type": "code",
   "execution_count": null,
   "metadata": {
    "cell_id": "00024-8bbbf473-6eef-420d-b08b-bab32b92cf90",
    "deepnote_cell_type": "code",
    "deepnote_to_be_reexecuted": false,
    "execution_millis": 1296618,
    "execution_start": 1621862367682,
    "source_hash": "a28558a1",
    "tags": []
   },
   "outputs": [],
   "source": [
    "def compute_del_W(weights, data):\n",
    "    p = data.shape[1]\n",
    "    inv_w = np.linalg.inv(weights)\n",
    "    m = logistic_d2f_df(weights @ data)\n",
    "    update = m @ data.T \n",
    "    return inv_w.T + update / p"
   ]
  },
  {
   "cell_type": "code",
   "execution_count": null,
   "metadata": {
    "cell_id": "00022-10401edb-e141-4b49-b2e5-9d11881d7ec5",
    "deepnote_cell_type": "code",
    "deepnote_to_be_reexecuted": false,
    "execution_millis": 1296179,
    "execution_start": 1621862367682,
    "source_hash": "9cda4862",
    "tags": []
   },
   "outputs": [],
   "source": [
    "def compute_del_W_natural(weights, data):\n",
    "    p = data.shape[1]\n",
    "    m = logistic_d2f_df(weights @ data)\n",
    "    update = (np.eye(p) + (m @ (weights @ data).T)) @ weights \n",
    "    return update"
   ]
  },
  {
   "cell_type": "code",
   "execution_count": null,
   "metadata": {
    "cell_id": "00024-7617f912-0a48-45e0-92b1-e69dbe9f9a24",
    "deepnote_cell_type": "code",
    "deepnote_to_be_reexecuted": false,
    "execution_millis": 1295784,
    "execution_start": 1621862367683,
    "source_hash": "6e5a5375",
    "tags": []
   },
   "outputs": [],
   "source": [
    "def infomax_ica(init_W, data, lr = 1e-2, lr_scale=0.9999, num_epochs = 100, save_fnorm_count=1000):\n",
    "    num_data = data.shape[1]\n",
    "    num_features = data.shape[0]\n",
    "\n",
    "    assert(num_features == init_W.shape[0])\n",
    "    assert(num_features == init_W.shape[1])\n",
    "\n",
    "    weights = init_W.copy()\n",
    "    p_weights = init_W.copy()\n",
    "    \n",
    "    cur_lr = lr\n",
    "\n",
    "    count = 0\n",
    "    fnorm = []\n",
    "    for epoch in range(num_epochs):\n",
    "        #shuffling data\n",
    "        #order = np.random.permutation(num_data)\n",
    "        permuted = data[:,order]\n",
    "        for alpha in range(num_data):\n",
    "            sample = data[:,[alpha]]\n",
    "            update = compute_del_W(weights, sample)\n",
    "            weights += cur_lr * update\n",
    "            cur_lr *= lr_scale\n",
    "\n",
    "            count += 1\n",
    "            if count >=save_fnorm_count:\n",
    "                count = 0\n",
    "                fnorm.append(frob_norm(p_weights, weights))\n",
    "                p_weights = weights.copy()\n",
    "    return weights, fnorm"
   ]
  },
  {
   "cell_type": "code",
   "execution_count": null,
   "metadata": {
    "cell_id": "00023-acecf6f8-4a3c-4a0e-92a1-29b7271ca493",
    "deepnote_cell_type": "code",
    "deepnote_to_be_reexecuted": false,
    "execution_millis": 0,
    "execution_start": 1621862367732,
    "source_hash": "2bffd827",
    "tags": []
   },
   "outputs": [],
   "source": [
    "def infomax_ica_natural(init_W, data, lr = 1e-2, lr_scale=0.9999, num_epochs = 100, save_fnorm_count=1000):\n",
    "    num_data = data.shape[1]\n",
    "    num_features = data.shape[0]\n",
    "\n",
    "    assert(num_features == init_W.shape[0])\n",
    "    assert(num_features == init_W.shape[1])\n",
    "\n",
    "    weights = init_W.copy()\n",
    "    p_weights = init_W.copy()\n",
    "    \n",
    "    cur_lr = lr\n",
    "\n",
    "    count = 0\n",
    "    fnorm = []\n",
    "    for epoch in range(num_epochs):\n",
    "        #shuffling data\n",
    "        #order = np.random.permutation(num_data)\n",
    "        #permuted = data[:,order]\n",
    "        for alpha in range(num_data):\n",
    "            sample = data[:,[alpha]]\n",
    "            update = compute_del_W_natural(weights, sample)\n",
    "            weights += cur_lr * update\n",
    "            cur_lr *= lr_scale\n",
    "\n",
    "            count += 1\n",
    "            if count >=save_fnorm_count:\n",
    "                count = 0\n",
    "                fnorm.append(frob_norm(p_weights, weights))\n",
    "                p_weights = weights.copy()\n",
    "    return weights, fnorm"
   ]
  },
  {
   "cell_type": "code",
   "execution_count": null,
   "metadata": {
    "cell_id": "00025-9f895195-6f42-407f-aac7-5d52a751882e",
    "deepnote_cell_type": "code",
    "deepnote_to_be_reexecuted": false,
    "execution_millis": 27499,
    "execution_start": 1621862367732,
    "source_hash": "1287fd5b",
    "tags": []
   },
   "outputs": [
    {
     "name": "stdout",
     "output_type": "stream",
     "text": [
      "[[ -1.32256796   4.20435387]\n",
      " [  7.7481306  -10.17103661]]\n"
     ]
    }
   ],
   "source": [
    "updated_w, norm = infomax_ica(W, p_sounds.T, lr=1e-2, num_epochs=10)\n",
    "print(updated_w)"
   ]
  },
  {
   "cell_type": "code",
   "execution_count": null,
   "metadata": {
    "cell_id": "00026-8c983d4c-42e8-4f76-8ec7-dece7fa9d1a5",
    "deepnote_cell_type": "code",
    "deepnote_to_be_reexecuted": false,
    "execution_millis": 9471,
    "execution_start": 1621862395213,
    "source_hash": "a93c3f9a",
    "tags": []
   },
   "outputs": [
    {
     "name": "stdout",
     "output_type": "stream",
     "text": [
      "[[1.13247219 0.918405  ]\n",
      " [1.36931936 0.58843281]]\n"
     ]
    }
   ],
   "source": [
    "updated_w_n, norm_n = infomax_ica_natural(W, p_sounds.T, lr=1e-2, num_epochs=10)\n",
    "print(updated_w_n)"
   ]
  },
  {
   "cell_type": "code",
   "execution_count": null,
   "metadata": {
    "cell_id": "00026-7170d6f2-934d-478d-b07d-4f538e65d957",
    "deepnote_cell_type": "code",
    "deepnote_to_be_reexecuted": false,
    "execution_millis": 25,
    "execution_start": 1621862404680,
    "source_hash": "601447a",
    "tags": []
   },
   "outputs": [
    {
     "data": {
      "text/plain": [
       "array([[0.61239292, 0.68592243],\n",
       "       [0.45297251, 0.07951373]])"
      ]
     },
     "execution_count": 25,
     "metadata": {},
     "output_type": "execute_result"
    }
   ],
   "source": [
    "W"
   ]
  },
  {
   "cell_type": "code",
   "execution_count": null,
   "metadata": {
    "cell_id": "00027-e0c4366a-da32-4db0-9249-c76335498f35",
    "deepnote_cell_type": "code",
    "deepnote_to_be_reexecuted": false,
    "execution_millis": 26,
    "execution_start": 1621862404699,
    "source_hash": "17b9d13d",
    "tags": []
   },
   "outputs": [],
   "source": [
    "target = np.linalg.inv(A)"
   ]
  },
  {
   "cell_type": "code",
   "execution_count": null,
   "metadata": {
    "cell_id": "00024-8d088f93-f04e-4e18-88e8-238722fcf4b6",
    "deepnote_cell_type": "code",
    "deepnote_to_be_reexecuted": false,
    "execution_millis": 32,
    "execution_start": 1621862404751,
    "source_hash": "b77bec42",
    "tags": []
   },
   "outputs": [
    {
     "data": {
      "text/plain": [
       "array([[ 11.02220435,  -2.70387357],\n",
       "       [-14.8738433 ,   5.04193471]])"
      ]
     },
     "execution_count": 27,
     "metadata": {},
     "output_type": "execute_result"
    }
   ],
   "source": [
    "target"
   ]
  },
  {
   "cell_type": "markdown",
   "metadata": {
    "cell_id": "00027-515ae762-1cfd-49ad-9c40-0e659703542b",
    "deepnote_cell_type": "markdown",
    "tags": []
   },
   "source": [
    "Exercise H5.3 Results"
   ]
  },
  {
   "cell_type": "code",
   "execution_count": null,
   "metadata": {
    "cell_id": "00025-4748989d-46ac-4939-b4b7-3764c39810cd",
    "deepnote_cell_type": "code",
    "deepnote_to_be_reexecuted": false,
    "execution_millis": 22,
    "execution_start": 1621862404802,
    "source_hash": "bd098142",
    "tags": []
   },
   "outputs": [],
   "source": [
    "recovered = updated_w @ x_sounds.T\n",
    "recovered_n = updated_w_n @ x_sounds.T"
   ]
  },
  {
   "cell_type": "code",
   "execution_count": null,
   "metadata": {
    "cell_id": "00030-4571ab6b-b57d-48e7-8f2d-00b077d63cd3",
    "deepnote_cell_type": "code",
    "deepnote_to_be_reexecuted": false,
    "execution_millis": 50,
    "execution_start": 1621862404831,
    "source_hash": "5acbfe9",
    "tags": []
   },
   "outputs": [],
   "source": [
    "rec_sound1 = recovered[0,:]\n",
    "# rec_sound1 /= np.max(rec_sound1)\n",
    "rec_sound2 = recovered[1,:]\n",
    "# rec_sound2 /= np.max(rec_sound2)"
   ]
  },
  {
   "cell_type": "code",
   "execution_count": null,
   "metadata": {
    "cell_id": "00033-0ad5adea-e7e3-4a90-a65f-51e078f5dca7",
    "deepnote_cell_type": "code",
    "deepnote_to_be_reexecuted": false,
    "execution_millis": 0,
    "execution_start": 1621862404882,
    "source_hash": "f9aa0586",
    "tags": []
   },
   "outputs": [],
   "source": [
    "rec_sound1n = recovered_n[0,:]\n",
    "# rec_sound1n /= np.max(rec_sound1n)\n",
    "rec_sound2n = recovered_n[1,:]\n",
    "# rec_sound2n /= np.max(rec_sound2n)"
   ]
  },
  {
   "cell_type": "code",
   "execution_count": null,
   "metadata": {
    "cell_id": "00030-1bcd3789-e2bf-4d3d-932a-c7634a30a81a",
    "deepnote_cell_type": "code",
    "deepnote_to_be_reexecuted": false,
    "execution_millis": 1,
    "execution_start": 1621862404882,
    "source_hash": "993c6a0",
    "tags": []
   },
   "outputs": [],
   "source": [
    "scipy.io.wavfile.write('recov_sound1.wav', 8192, rec_sound1)\n",
    "scipy.io.wavfile.write('recov_sound2.wav', 8192, rec_sound2)"
   ]
  },
  {
   "cell_type": "code",
   "execution_count": null,
   "metadata": {
    "cell_id": "00035-94123efa-2638-4ac8-84ce-62b8351135ff",
    "deepnote_cell_type": "code",
    "deepnote_to_be_reexecuted": false,
    "execution_millis": 42,
    "execution_start": 1621862404884,
    "source_hash": "5afc594b",
    "tags": []
   },
   "outputs": [],
   "source": [
    "scipy.io.wavfile.write('recovn_sound1.wav', 8192, rec_sound1)\n",
    "scipy.io.wavfile.write('recovn_sound2.wav', 8192, rec_sound2)"
   ]
  },
  {
   "cell_type": "code",
   "execution_count": null,
   "metadata": {
    "cell_id": "00031-eee943b7-5fd0-40a4-bf10-58bb64d94812",
    "deepnote_cell_type": "code",
    "deepnote_to_be_reexecuted": false,
    "execution_millis": 7,
    "execution_start": 1621862404927,
    "source_hash": "f12acf1b",
    "tags": []
   },
   "outputs": [
    {
     "name": "stdout",
     "output_type": "stream",
     "text": [
      "correlation of true sound 1 and recovered sound 1 = 0.17470835546242988\n",
      "correlation of true sound 1 and recovered sound 2 = 0.9651722487947253\n",
      "correlation of true sound 2 and recovered sound 1 = 0.984896072622358\n",
      "correlation of true sound 2 and recovered sound 2 = 0.26304381222432044\n"
     ]
    }
   ],
   "source": [
    "cov_s1p1 = np.cov(sound1,rec_sound1)[0,1]\n",
    "cov_s1p2 = np.cov(sound1,rec_sound2)[0,1]\n",
    "cov_s2p1 = np.cov(sound2,rec_sound1)[0,1]\n",
    "cov_s2p2 = np.cov(sound2,rec_sound2)[0,1]\n",
    "\n",
    "std_s1 = np.std(sound1)\n",
    "std_s2 = np.std(sound2)\n",
    "std_p1 = np.std(rec_sound1)\n",
    "std_p2 = np.std(rec_sound2)\n",
    "\n",
    "a2 = cov_s1p1/(std_s1*std_p1)\n",
    "b2 = cov_s1p2/(std_s1*std_p2)\n",
    "c2 = cov_s2p1/(std_s2*std_p1)\n",
    "d2 = cov_s2p2/(std_s2*std_p2)\n",
    "\n",
    "print('correlation of true sound 1 and recovered sound 1 = {}'.format(a2))\n",
    "print('correlation of true sound 1 and recovered sound 2 = {}'.format(b2))\n",
    "print('correlation of true sound 2 and recovered sound 1 = {}'.format(c2))\n",
    "print('correlation of true sound 2 and recovered sound 2 = {}'.format(d2))"
   ]
  },
  {
   "cell_type": "code",
   "execution_count": null,
   "metadata": {
    "cell_id": "00037-fb6cd6bf-c5e6-40b3-a078-b5a0764fc9aa",
    "deepnote_cell_type": "code",
    "deepnote_to_be_reexecuted": false,
    "execution_millis": 53,
    "execution_start": 1621862404928,
    "source_hash": "47e65734",
    "tags": []
   },
   "outputs": [
    {
     "name": "stdout",
     "output_type": "stream",
     "text": [
      "correlation of true sound 1 and recovered sound 1 (natural) = 0.291736170133636\n",
      "correlation of true sound 1 and recovered sound 2 (natural) = 0.302646753868447\n",
      "correlation of true sound 2 and recovered sound 1 (natural) = 0.9569238562147897\n",
      "correlation of true sound 2 and recovered sound 2 (natural) = 0.9535417873909134\n"
     ]
    }
   ],
   "source": [
    "cov_s1p1 = np.cov(sound1,rec_sound1n)[0,1]\n",
    "cov_s1p2 = np.cov(sound1,rec_sound2n)[0,1]\n",
    "cov_s2p1 = np.cov(sound2,rec_sound1n)[0,1]\n",
    "cov_s2p2 = np.cov(sound2,rec_sound2n)[0,1]\n",
    "\n",
    "std_s1 = np.std(sound1)\n",
    "std_s2 = np.std(sound2)\n",
    "std_p1 = np.std(rec_sound1n)\n",
    "std_p2 = np.std(rec_sound2n)\n",
    "\n",
    "a2 = cov_s1p1/(std_s1*std_p1)\n",
    "b2 = cov_s1p2/(std_s1*std_p2)\n",
    "c2 = cov_s2p1/(std_s2*std_p1)\n",
    "d2 = cov_s2p2/(std_s2*std_p2)\n",
    "\n",
    "print('correlation of true sound 1 and recovered sound 1 (natural) = {}'.format(a2))\n",
    "print('correlation of true sound 1 and recovered sound 2 (natural) = {}'.format(b2))\n",
    "print('correlation of true sound 2 and recovered sound 1 (natural) = {}'.format(c2))\n",
    "print('correlation of true sound 2 and recovered sound 2 (natural) = {}'.format(d2))"
   ]
  },
  {
   "cell_type": "code",
   "execution_count": null,
   "metadata": {
    "cell_id": "00034-4ad367fb-2a21-40d5-a3fc-d84173874548",
    "deepnote_cell_type": "code",
    "deepnote_to_be_reexecuted": false,
    "execution_millis": 369,
    "execution_start": 1621862404972,
    "source_hash": "c8e13d4",
    "tags": []
   },
   "outputs": [
    {
     "data": {
      "image/png": "[encoded data removed]",
      "text/plain": [
       "<Figure size 576x396 with 1 Axes>"
      ]
     },
     "metadata": {
      "image/png": {
       "height": 360,
       "width": 504
      }
     },
     "output_type": "display_data"
    }
   ],
   "source": [
    "plt.plot(norm[:20], label='Gradient Method')\n",
    "plt.plot(norm_n[:20], label='Natural Gradient Method')\n",
    "plt.title('frobenius norm')\n",
    "plt.xlabel('num of training samples (k)')\n",
    "plt.ylabel('weights distance')\n",
    "plt.legend()\n",
    "plt.show()"
   ]
  },
  {
   "cell_type": "code",
   "execution_count": null,
   "metadata": {
    "cell_id": "00040-7a9f5446-2950-4906-ac7b-282f88e07469",
    "deepnote_cell_type": "code",
    "deepnote_to_be_reexecuted": false,
    "execution_millis": 2,
    "execution_start": 1621862405309,
    "source_hash": "b623e53d",
    "tags": []
   },
   "outputs": [],
   "source": []
  },
  {
   "cell_type": "code",
   "execution_count": null,
   "metadata": {
    "cell_id": "00035-7be80070-b251-4149-85c1-933ac47992bf",
    "deepnote_cell_type": "code",
    "deepnote_to_be_reexecuted": false,
    "execution_millis": 834,
    "execution_start": 1621862405320,
    "source_hash": "5e530763",
    "tags": []
   },
   "outputs": [
    {
     "data": {
      "image/png": "[encoded data removed]",
      "text/plain": [
       "<Figure size 576x396 with 1 Axes>"
      ]
     },
     "metadata": {
      "image/png": {
       "height": 346,
       "width": 483
      }
     },
     "output_type": "display_data"
    }
   ],
   "source": [
    "bins = np.linspace(-10,10,30)\n",
    "\n",
    "plt.hist(sound1, bins, density=True, alpha=0.5, label='true')\n",
    "plt.hist(rec_sound1, bins, density=True, alpha=0.5, label='unmixed')\n",
    "plt.hist(rec_sound1n, bins, density=True, alpha=0.5, label='unmixed natural')\n",
    "plt.hist(x_sounds[:,0], bins, density=True, alpha=0.5, label='mixed')\n",
    "\n",
    "plt.title('Density Plot for Sound 1')\n",
    "plt.legend()\n",
    "plt.show()"
   ]
  },
  {
   "cell_type": "code",
   "execution_count": null,
   "metadata": {
    "cell_id": "00035-06bd92bb-af0e-49ce-8a71-158bf0dbd656",
    "deepnote_cell_type": "code",
    "deepnote_to_be_reexecuted": false,
    "execution_millis": 845,
    "execution_start": 1621862406144,
    "source_hash": "ca9cd59b",
    "tags": []
   },
   "outputs": [
    {
     "data": {
      "image/png": "[encoded data removed]",
      "text/plain": [
       "<Figure size 576x396 with 1 Axes>"
      ]
     },
     "metadata": {
      "image/png": {
       "height": 346,
       "width": 483
      }
     },
     "output_type": "display_data"
    }
   ],
   "source": [
    "plt.hist(sound2, bins, density=True, alpha=0.5, label='true')\n",
    "plt.hist(rec_sound2, bins, density=True, alpha=0.5, label='unmixed')\n",
    "plt.hist(rec_sound2n, bins, density=True, alpha=0.5, label='unmixed natural')\n",
    "plt.hist(x_sounds[:,1], bins, density=True, alpha=0.5, label='mixed')\n",
    "\n",
    "plt.title('Density Plot for Sound 2')\n",
    "plt.legend()\n",
    "plt.show()"
   ]
  },
  {
   "cell_type": "markdown",
   "metadata": {
    "cell_id": "00044-9a2e8051-13f3-40f3-8924-cdc95870541b",
    "deepnote_cell_type": "markdown",
    "tags": []
   },
   "source": [
    "The Infomax algorithm seems to produce a more distributed density. It also seems that infomax with gradient produce the sama distribution compared to infomax with natural gradient.  \n",
    "\n",
    "The natural gradient seems to be faster thatn the gradient method since it does not require computing inverse matrix of the weights. \n",
    "\n",
    "Looking at the weights updated by the algorithm, the gradient method seems to be more similar to the target weights. The correlation values are telling the same things. However judging by ear, both methods seem to perform adequately good. "
   ]
  },
  {
   "cell_type": "code",
   "execution_count": null,
   "metadata": {
    "cell_id": "00043-e8696cbf-93d0-4fe9-8035-f642f0a354d0",
    "deepnote_cell_type": "code",
    "deepnote_to_be_reexecuted": false,
    "execution_millis": 7,
    "execution_start": 1621862406981,
    "source_hash": "b623e53d",
    "tags": []
   },
   "outputs": [],
   "source": []
  },
  {
   "cell_type": "markdown",
   "metadata": {
    "created_in_deepnote_cell": true,
    "deepnote_cell_type": "markdown",
    "tags": []
   },
   "source": [
    "<a style='text-decoration:none;line-height:16px;display:flex;color:#5B5B62;padding:10px;justify-content:end;' href='https://deepnote.com?utm_source=created-in-deepnote-cell&projectId=b23642c4-be61-4004-beb2-279e5be696f6' target=\"_blank\">\n",
    "<img alt='Created in deepnote.com' style='display:inline;max-height:16px;margin:0px;margin-right:7.5px;' src='data:image/svg+xml;base64,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' > </img>\n",
    "Created in <span style='font-weight:600;margin-left:4px;'>Deepnote</span></a>"
   ]
  }
 ],
 "metadata": {
  "deepnote": {
   "is_reactive": false
  },
  "deepnote_execution_queue": [],
  "deepnote_notebook_id": "d3e51d4d-5df4-4e07-b074-7c53cd3a0cdc",
  "kernelspec": {
   "display_name": "Python 3",
   "language": "python",
   "name": "python3"
  },
  "language_info": {
   "codemirror_mode": {
    "name": "ipython",
    "version": 3
   },
   "file_extension": ".py",
   "mimetype": "text/x-python",
   "name": "python",
   "nbconvert_exporter": "python",
   "pygments_lexer": "ipython3",
   "version": "3.8.0"
  }
 },
 "nbformat": 4,
 "nbformat_minor": 4
}
